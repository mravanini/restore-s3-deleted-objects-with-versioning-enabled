{
 "cells": [
  {
   "cell_type": "code",
   "execution_count": 31,
   "id": "01daa0cf",
   "metadata": {},
   "outputs": [
    {
     "name": "stdout",
     "output_type": "stream",
     "text": [
      "Bucket aplicacoes-demo has versioning Enabled\n",
      "Bucket aws-codestar-us-east-1-126421527990-democodestar-pipe has versioning Enabled\n",
      "Bucket aws-codestar-us-east-1-126421527990-democodestarphp-pipe has versioning Enabled\n",
      "Bucket aws-codestar-us-east-1-126421527990-prodest-pipe has versioning Enabled\n",
      "Bucket aws-codestar-us-east-1-126421527990-sebraedf-pipe has versioning Enabled\n",
      "Bucket aws-codestar-us-west-2-126421527990-codestarpython-pipeline has versioning Enabled\n",
      "Bucket aws-codestar-us-west-2-126421527990-codestarstatic-pipeline has versioning Enabled\n",
      "Bucket aws-config-bucket-126421527990 has versioning Enabled\n",
      "Bucket brain-company-natal has versioning Enabled\n",
      "Bucket custom-labels-console-us-east-1-226decc1a6 has versioning Enabled\n",
      "Bucket estimaodontologia has versioning Enabled\n",
      "Bucket fhir-service-dev-fhirbinarybucket-1l9t314k7tnbk has versioning Enabled\n",
      "Bucket labs.essentials.training has versioning Enabled\n",
      "Bucket labs.training has versioning Enabled\n",
      "Bucket melissa-brazil has versioning Enabled\n",
      "Bucket melissa-virginia has versioning Enabled\n",
      "Bucket mlops-us-east-1-126421527990 has versioning Enabled\n",
      "Bucket podcast-braps has versioning Enabled\n",
      "Bucket proposal-calculator-local has versioning Enabled\n",
      "Bucket workshop-backups has versioning Enabled\n"
     ]
    }
   ],
   "source": [
    "import boto\n",
    "from boto.s3.connection import S3Connection\n",
    "s3_conn = boto.connect_s3()  \n",
    "s3 = boto3.resource('s3')\n",
    "\n",
    "buckets = s3_conn.get_all_buckets() \n",
    "for key in buckets:\n",
    "    bucket_versioning = s3.meta.client.get_bucket_versioning(Bucket=key.name)\n",
    "    if ('Status' in bucket_versioning):\n",
    "        print (\"Bucket \" + key.name + \" has versioning \" + bucket_versioning['Status'])\n"
   ]
  },
  {
   "cell_type": "code",
   "execution_count": null,
   "id": "a63093cf",
   "metadata": {},
   "outputs": [],
   "source": []
  }
 ],
 "metadata": {
  "kernelspec": {
   "display_name": "conda_python3",
   "language": "python",
   "name": "conda_python3"
  },
  "language_info": {
   "codemirror_mode": {
    "name": "ipython",
    "version": 3
   },
   "file_extension": ".py",
   "mimetype": "text/x-python",
   "name": "python",
   "nbconvert_exporter": "python",
   "pygments_lexer": "ipython3",
   "version": "3.6.13"
  }
 },
 "nbformat": 4,
 "nbformat_minor": 5
}
