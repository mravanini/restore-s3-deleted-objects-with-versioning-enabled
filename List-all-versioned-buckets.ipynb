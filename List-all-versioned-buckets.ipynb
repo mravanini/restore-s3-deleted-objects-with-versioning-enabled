{
 "cells": [
  {
   "cell_type": "code",
   "execution_count": null,
   "id": "b4da038b",
   "metadata": {},
   "outputs": [],
   "source": [
    "import boto\n",
    "from boto.s3.connection import S3Connection\n",
    "s3_conn = boto.connect_s3()  \n",
    "s3 = boto3.resource('s3')\n",
    "\n",
    "buckets = s3_conn.get_all_buckets() \n",
    "for key in buckets:\n",
    "    bucket_versioning = s3.meta.client.get_bucket_versioning(Bucket=key.name)\n",
    "    if ('Status' in bucket_versioning):\n",
    "        print (\"Bucket \" + key.name + \" has versioning \" + bucket_versioning['Status'])\n"
   ]
  }
 ],
 "metadata": {
  "kernelspec": {
   "display_name": "conda_python3",
   "language": "python",
   "name": "conda_python3"
  },
  "language_info": {
   "codemirror_mode": {
    "name": "ipython",
    "version": 3
   },
   "file_extension": ".py",
   "mimetype": "text/x-python",
   "name": "python",
   "nbconvert_exporter": "python",
   "pygments_lexer": "ipython3",
   "version": "3.6.13"
  }
 },
 "nbformat": 4,
 "nbformat_minor": 5
}
